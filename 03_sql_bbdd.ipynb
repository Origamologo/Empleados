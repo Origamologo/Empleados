{
 "cells": [
  {
   "cell_type": "markdown",
   "metadata": {},
   "source": [
    "To transform the given JSON data into a relational database that respects the second and third normal forms, we need to identify entities, attributes, and relationships between them. In this case, we can identify the following entities:\n",
    "\n",
    "    Employees\n",
    "    Job Roles\n",
    "    Education Fields\n",
    "\n",
    "These SQL statements create three tables: Employees, JobRoles, and EducationFields. The JobRoles table has a foreign key relationship with the EducationFields table. The Employees table contains attributes related to individual employees, and the JobRoles table contains information about job roles and their associated education fields."
   ]
  },
  {
   "cell_type": "code",
   "execution_count": null,
   "metadata": {},
   "outputs": [],
   "source": [
    "CREATE TABLE Employees (\n",
    "    EmployeeID INT PRIMARY KEY,\n",
    "    Age INT,\n",
    "    Attrition VARCHAR(3),\n",
    "    BusinessTravel VARCHAR(255),\n",
    "    DistanceFromHome INT,\n",
    "    Education INT,\n",
    "    EnvironmentSatisfaction INT,\n",
    "    Gender VARCHAR(1),\n",
    "    JobInvolvement INT,\n",
    "    JobLevel INT,\n",
    "    JobRole VARCHAR(255),\n",
    "    JobSatisfaction INT,\n",
    "    MaritalStatus VARCHAR(255),\n",
    "    MonthlyIncome FLOAT,\n",
    "    MonthlyRate INT,\n",
    "    NumCompaniesWorked INT,\n",
    "    OverTime VARCHAR(3),\n",
    "    PercentSalaryHike INT,\n",
    "    PerformanceRating FLOAT,\n",
    "    RelationshipSatisfaction INT,\n",
    "    StockOptionLevel INT,\n",
    "    TotalWorkingYears FLOAT,\n",
    "    TrainingTimesLastYear INT,\n",
    "    WorkLifeBalance FLOAT,\n",
    "    YearsAtCompany INT,\n",
    "    YearsSinceLastPromotion INT,\n",
    "    YearsWithCurrManager INT,\n",
    "    DateOfBirth INT,\n",
    "    RemoteWork VARCHAR(3)\n",
    ");\n",
    "\n",
    "-- JobRoles Table\n",
    "CREATE TABLE JobRoles (\n",
    "    JobRole VARCHAR(255) PRIMARY KEY,\n",
    "    EducationField VARCHAR(255),\n",
    "    FOREIGN KEY (EducationField) REFERENCES EducationFields(EducationField)\n",
    ");\n",
    "\n",
    "-- EducationFields Table\n",
    "CREATE TABLE EducationFields (\n",
    "    EducationField VARCHAR(255) PRIMARY KEY\n",
    ");\n"
   ]
  }
 ],
 "metadata": {
  "language_info": {
   "name": "python"
  }
 },
 "nbformat": 4,
 "nbformat_minor": 2
}
