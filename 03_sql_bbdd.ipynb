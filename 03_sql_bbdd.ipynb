{
 "cells": [
  {
   "cell_type": "code",
   "execution_count": 1,
   "metadata": {},
   "outputs": [
    {
     "name": "stdout",
     "output_type": "stream",
     "text": [
      "Collecting sqlalchemy\n",
      "  Downloading SQLAlchemy-2.0.23-cp312-cp312-manylinux_2_17_x86_64.manylinux2014_x86_64.whl.metadata (9.6 kB)\n",
      "Collecting pymysql\n",
      "  Downloading PyMySQL-1.1.0-py3-none-any.whl.metadata (4.4 kB)\n",
      "Requirement already satisfied: pandas in /home/miguel/anaconda3/envs/empleados/lib/python3.12/site-packages (2.1.4)\n",
      "Requirement already satisfied: typing-extensions>=4.2.0 in /home/miguel/anaconda3/envs/empleados/lib/python3.12/site-packages (from sqlalchemy) (4.9.0)\n",
      "Collecting greenlet!=0.4.17 (from sqlalchemy)\n",
      "  Downloading greenlet-3.0.2-cp312-cp312-manylinux_2_24_x86_64.manylinux_2_28_x86_64.whl.metadata (3.7 kB)\n",
      "Requirement already satisfied: numpy<2,>=1.26.0 in /home/miguel/anaconda3/envs/empleados/lib/python3.12/site-packages (from pandas) (1.26.2)\n",
      "Requirement already satisfied: python-dateutil>=2.8.2 in /home/miguel/anaconda3/envs/empleados/lib/python3.12/site-packages (from pandas) (2.8.2)\n",
      "Requirement already satisfied: pytz>=2020.1 in /home/miguel/anaconda3/envs/empleados/lib/python3.12/site-packages (from pandas) (2023.3.post1)\n",
      "Requirement already satisfied: tzdata>=2022.1 in /home/miguel/anaconda3/envs/empleados/lib/python3.12/site-packages (from pandas) (2023.3)\n",
      "Requirement already satisfied: six>=1.5 in /home/miguel/anaconda3/envs/empleados/lib/python3.12/site-packages (from python-dateutil>=2.8.2->pandas) (1.16.0)\n",
      "Downloading SQLAlchemy-2.0.23-cp312-cp312-manylinux_2_17_x86_64.manylinux2014_x86_64.whl (3.2 MB)\n",
      "\u001b[2K   \u001b[90m━━━━━━━━━━━━━━━━━━━━━━━━━━━━━━━━━━━━━━━━\u001b[0m \u001b[32m3.2/3.2 MB\u001b[0m \u001b[31m1.4 MB/s\u001b[0m eta \u001b[36m0:00:00\u001b[0m00:01\u001b[0m00:01\u001b[0m0m\n",
      "\u001b[?25hDownloading PyMySQL-1.1.0-py3-none-any.whl (44 kB)\n",
      "\u001b[2K   \u001b[90m━━━━━━━━━━━━━━━━━━━━━━━━━━━━━━━━━━━━━━━━\u001b[0m \u001b[32m44.8/44.8 kB\u001b[0m \u001b[31m757.5 kB/s\u001b[0m eta \u001b[36m0:00:00\u001b[0m--:--\u001b[0m\n",
      "\u001b[?25hDownloading greenlet-3.0.2-cp312-cp312-manylinux_2_24_x86_64.manylinux_2_28_x86_64.whl (621 kB)\n",
      "\u001b[2K   \u001b[90m━━━━━━━━━━━━━━━━━━━━━━━━━━━━━━━━━━━━━━━━\u001b[0m \u001b[32m621.0/621.0 kB\u001b[0m \u001b[31m2.0 MB/s\u001b[0m eta \u001b[36m0:00:00\u001b[0ma \u001b[36m0:00:01\u001b[0mm\n",
      "\u001b[?25hInstalling collected packages: pymysql, greenlet, sqlalchemy\n",
      "Successfully installed greenlet-3.0.2 pymysql-1.1.0 sqlalchemy-2.0.23\n"
     ]
    }
   ],
   "source": [
    "!pip install sqlalchemy pymysql pandas"
   ]
  },
  {
   "cell_type": "markdown",
   "metadata": {},
   "source": [
    "To transform the given JSON data into a relational database that respects the second and third normal forms, we need to identify entities, attributes, and relationships between them. In this case, we can identify the following entities:\n",
    "\n",
    "    Employees\n",
    "    Job Roles\n",
    "    Education Fields\n",
    "\n",
    "These SQL statements create three tables: Employees, JobRoles, and EducationFields. The JobRoles table has a foreign key relationship with the EducationFields table. The Employees table contains attributes related to individual employees, and the JobRoles table contains information about job roles and their associated education fields."
   ]
  },
  {
   "cell_type": "code",
   "execution_count": null,
   "metadata": {},
   "outputs": [],
   "source": [
    "CREATE TABLE Employees (\n",
    "    EmployeeID INT PRIMARY KEY,\n",
    "    Age INT,\n",
    "    Attrition VARCHAR(3),\n",
    "    BusinessTravel VARCHAR(255),\n",
    "    DistanceFromHome INT,\n",
    "    Education INT,\n",
    "    EnvironmentSatisfaction INT,\n",
    "    Gender VARCHAR(1),\n",
    "    JobInvolvement INT,\n",
    "    JobLevel INT,\n",
    "    JobRole VARCHAR(255),\n",
    "    JobSatisfaction INT,\n",
    "    MaritalStatus VARCHAR(255),\n",
    "    MonthlyIncome FLOAT,\n",
    "    MonthlyRate INT,\n",
    "    NumCompaniesWorked INT,\n",
    "    OverTime VARCHAR(3),\n",
    "    PercentSalaryHike INT,\n",
    "    PerformanceRating FLOAT,\n",
    "    RelationshipSatisfaction INT,\n",
    "    StockOptionLevel INT,\n",
    "    TotalWorkingYears FLOAT,\n",
    "    TrainingTimesLastYear INT,\n",
    "    WorkLifeBalance FLOAT,\n",
    "    YearsAtCompany INT,\n",
    "    YearsSinceLastPromotion INT,\n",
    "    YearsWithCurrManager INT,\n",
    "    DateOfBirth INT,\n",
    "    RemoteWork VARCHAR(3)\n",
    ");\n",
    "\n",
    "-- JobRoles Table\n",
    "CREATE TABLE JobRoles (\n",
    "    JobRole VARCHAR(255) PRIMARY KEY,\n",
    "    EducationField VARCHAR(255),\n",
    "    FOREIGN KEY (EducationField) REFERENCES EducationFields(EducationField)\n",
    ");\n",
    "\n",
    "-- EducationFields Table\n",
    "CREATE TABLE EducationFields (\n",
    "    EducationField VARCHAR(255) PRIMARY KEY\n",
    ");\n"
   ]
  },
  {
   "cell_type": "code",
   "execution_count": null,
   "metadata": {},
   "outputs": [],
   "source": [
    "import pandas as pd\n",
    "from sqlalchemy import create_engine\n",
    "\n",
    "# Your MySQL database connection parameters\n",
    "db_username = 'your_username'\n",
    "db_password = 'your_password'\n",
    "db_host = 'localhost'\n",
    "db_name = 'your_database_name'\n",
    "\n",
    "# Load JSON data into a DataFrame\n",
    "json_data = {\n",
    "    # ... (your JSON data)\n",
    "}\n",
    "df = pd.DataFrame(json_data)\n",
    "\n",
    "# SQLAlchemy connection string\n",
    "connection_str = f\"mysql+pymysql://{db_username}:{db_password}@{db_host}/{db_name}\"\n",
    "\n",
    "# Create SQLAlchemy engine\n",
    "engine = create_engine(connection_str)\n",
    "\n",
    "# Insert data into MySQL database\n",
    "df.to_sql('your_table_name', con=engine, if_exists='replace', index=False)\n",
    "\n",
    "print(\"Data inserted successfully.\")"
   ]
  }
 ],
 "metadata": {
  "kernelspec": {
   "display_name": "empleados",
   "language": "python",
   "name": "python3"
  },
  "language_info": {
   "codemirror_mode": {
    "name": "ipython",
    "version": 3
   },
   "file_extension": ".py",
   "mimetype": "text/x-python",
   "name": "python",
   "nbconvert_exporter": "python",
   "pygments_lexer": "ipython3",
   "version": "3.12.0"
  }
 },
 "nbformat": 4,
 "nbformat_minor": 2
}
